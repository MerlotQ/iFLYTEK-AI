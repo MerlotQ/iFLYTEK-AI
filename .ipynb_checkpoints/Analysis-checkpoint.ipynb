{
 "cells": [
  {
   "cell_type": "markdown",
   "metadata": {},
   "source": [
    "# 概要"
   ]
  },
  {
   "cell_type": "markdown",
   "metadata": {},
   "source": [
    "一、赛题背景\n",
    "\n",
    "预测性维护是工业互联网应用“皇冠上的明珠”，实现预测性维护的关键是对设备系统或核心部件的寿命进行有效预测。对工程机械设备的核心耗损性部件的剩余寿命进行预测，可以据此对于相关部件的进行提前维护或者更换，从而减少整个设备非计划停机时间，避免因计划外停机而带来的经济损失，比如导致整个生产现场其他配套设备等待故障设备部件的修复。\n",
    "\n",
    "二、赛事任务\n",
    "\n",
    "本赛题由中科云谷科技有限公司提供某类工程机械设备的核心耗损性部件的工作数据，包括部件工作时长、转速、温度、电压、电流等多类工况数据。希望参赛者利用大数据分析、机器学习、深度学习等方法，提取合适的特征、建立合适的寿命预测模型，预测核心耗损性部件的剩余寿命。\n",
    "\n",
    "三、开放数据\n",
    "\n",
    "针对某类工程机械设备的核心耗损性部件，数据集包含训练集和测试集两个部分。\n",
    "\n",
    "训练集中，每个文件对应一个该类部件的全寿命物联网采样数据，即从安装后一直到更换之间的对应数据，形式为多维时间序列。字段“部件工作时长”的最大值（通常为最后一行记录）即为该部件实例的实际寿命。（参见样例数据）\n",
    "\n",
    "测试集中，每个文件对应一个该类部件一段时间内的物联网采样数据，需要基于该段数据，预测该部件此后的剩余寿命。\n",
    "\n",
    "特征数据字段包括：部件工作时长, 累积量参数1，累积量参数2，转速信号1, 转速信号2, 压力信号1, 压力信号2, 温度信号, 流量信号, 电流信号, 开关1信号, 开关2信号, 告警信号1, 设备类型。其中：\n",
    "\n",
    "数值型字段包括：部件工作时长, 累积量参数1，累积量参数2，转速信号1, 转速信号2, 压力信号1, 压力信号2, 温度信号, 流量信号, 电流信号。\n",
    "\n",
    "开关量字段（0或1）：开关1信号, 开关2信号, 告警信号1\n",
    "\n",
    "字符串型字段：设备类型。\n",
    "\n",
    "除了开关量以外，上述设备类型、工况数据的具体值都经过了一定的脱敏处理，但已考虑尽量不影响数据蕴含的关系。\n",
    "\n",
    "赛题的算法预测精度的衡量标准公式如下：\n",
    "\n",
    "![工程机械寿命预测公式](工程机械寿命预测公式.png)\n",
    "\n",
    "其中，ri表示第i个样本的真实剩余寿命，r ̂_i表示第i个样本的预测剩余寿命。"
   ]
  },
  {
   "cell_type": "markdown",
   "metadata": {},
   "source": [
    "# 数据探索"
   ]
  },
  {
   "cell_type": "code",
   "execution_count": 1,
   "metadata": {
    "ExecuteTime": {
     "end_time": "2019-07-19T09:03:21.111211Z",
     "start_time": "2019-07-19T09:03:18.532064Z"
    }
   },
   "outputs": [],
   "source": [
    "import os\n",
    "import pandas as pd\n",
    "import numpy as np\n",
    "import seaborn as sns\n",
    "import matplotlib as mpl\n",
    "import matplotlib.pyplot as plt\n",
    "plt.style.use(\"fivethirtyeight\")\n",
    "sns.set_style({'font.sans-serif':['Microsoft YaHei','Arial']})"
   ]
  },
  {
   "cell_type": "markdown",
   "metadata": {},
   "source": [
    "## 数据初探"
   ]
  },
  {
   "cell_type": "code",
   "execution_count": 2,
   "metadata": {
    "ExecuteTime": {
     "end_time": "2019-07-19T09:03:21.281221Z",
     "start_time": "2019-07-19T09:03:21.113211Z"
    }
   },
   "outputs": [],
   "source": [
    "first_train_research = pd.read_csv('./train/00fb58ecd675062e4423.csv')"
   ]
  },
  {
   "cell_type": "code",
   "execution_count": 3,
   "metadata": {
    "ExecuteTime": {
     "end_time": "2019-07-19T09:03:21.324223Z",
     "start_time": "2019-07-19T09:03:21.283221Z"
    }
   },
   "outputs": [
    {
     "name": "stdout",
     "output_type": "stream",
     "text": [
      "<class 'pandas.core.frame.DataFrame'>\n",
      "RangeIndex: 55859 entries, 0 to 55858\n",
      "Data columns (total 14 columns):\n",
      "部件工作时长    55859 non-null float64\n",
      "累积量参数1    55859 non-null float64\n",
      "累积量参数2    55859 non-null float64\n",
      "转速信号1     55859 non-null float64\n",
      "转速信号2     55859 non-null float64\n",
      "压力信号1     55859 non-null float64\n",
      "压力信号2     55859 non-null float64\n",
      "温度信号      55859 non-null float64\n",
      "流量信号      55859 non-null float64\n",
      "电流信号      55859 non-null float64\n",
      "开关1信号     55859 non-null float64\n",
      "开关2信号     55859 non-null float64\n",
      "告警信号1     55859 non-null float64\n",
      "设备类型      55859 non-null object\n",
      "dtypes: float64(13), object(1)\n",
      "memory usage: 6.0+ MB\n"
     ]
    }
   ],
   "source": [
    "first_train_research.info()"
   ]
  },
  {
   "cell_type": "code",
   "execution_count": 4,
   "metadata": {
    "ExecuteTime": {
     "end_time": "2019-07-19T09:03:21.347225Z",
     "start_time": "2019-07-19T09:03:21.326223Z"
    }
   },
   "outputs": [
    {
     "data": {
      "text/plain": [
       "部件工作时长    0\n",
       "累积量参数1    0\n",
       "累积量参数2    0\n",
       "转速信号1     0\n",
       "转速信号2     0\n",
       "压力信号1     0\n",
       "压力信号2     0\n",
       "温度信号      0\n",
       "流量信号      0\n",
       "电流信号      0\n",
       "开关1信号     0\n",
       "开关2信号     0\n",
       "告警信号1     0\n",
       "设备类型      0\n",
       "dtype: int64"
      ]
     },
     "execution_count": 4,
     "metadata": {},
     "output_type": "execute_result"
    }
   ],
   "source": [
    "pd.isnull(first_train_research).sum()"
   ]
  },
  {
   "cell_type": "code",
   "execution_count": 5,
   "metadata": {
    "ExecuteTime": {
     "end_time": "2019-07-19T09:03:21.377226Z",
     "start_time": "2019-07-19T09:03:21.349225Z"
    }
   },
   "outputs": [
    {
     "data": {
      "text/html": [
       "<div>\n",
       "<style scoped>\n",
       "    .dataframe tbody tr th:only-of-type {\n",
       "        vertical-align: middle;\n",
       "    }\n",
       "\n",
       "    .dataframe tbody tr th {\n",
       "        vertical-align: top;\n",
       "    }\n",
       "\n",
       "    .dataframe thead th {\n",
       "        text-align: right;\n",
       "    }\n",
       "</style>\n",
       "<table border=\"1\" class=\"dataframe\">\n",
       "  <thead>\n",
       "    <tr style=\"text-align: right;\">\n",
       "      <th></th>\n",
       "      <th>部件工作时长</th>\n",
       "      <th>累积量参数1</th>\n",
       "      <th>累积量参数2</th>\n",
       "      <th>转速信号1</th>\n",
       "      <th>转速信号2</th>\n",
       "      <th>压力信号1</th>\n",
       "      <th>压力信号2</th>\n",
       "      <th>温度信号</th>\n",
       "      <th>流量信号</th>\n",
       "      <th>电流信号</th>\n",
       "      <th>开关1信号</th>\n",
       "      <th>开关2信号</th>\n",
       "      <th>告警信号1</th>\n",
       "      <th>设备类型</th>\n",
       "    </tr>\n",
       "  </thead>\n",
       "  <tbody>\n",
       "    <tr>\n",
       "      <th>0</th>\n",
       "      <td>0.0</td>\n",
       "      <td>0.0</td>\n",
       "      <td>0.0</td>\n",
       "      <td>10801.19</td>\n",
       "      <td>24614.69</td>\n",
       "      <td>67.86</td>\n",
       "      <td>372.86</td>\n",
       "      <td>42.2</td>\n",
       "      <td>132.66</td>\n",
       "      <td>1627.52</td>\n",
       "      <td>0.0</td>\n",
       "      <td>0.0</td>\n",
       "      <td>0.0</td>\n",
       "      <td>S26a</td>\n",
       "    </tr>\n",
       "    <tr>\n",
       "      <th>1</th>\n",
       "      <td>0.0</td>\n",
       "      <td>0.0</td>\n",
       "      <td>0.0</td>\n",
       "      <td>7666.51</td>\n",
       "      <td>17452.22</td>\n",
       "      <td>76.95</td>\n",
       "      <td>374.27</td>\n",
       "      <td>42.2</td>\n",
       "      <td>135.06</td>\n",
       "      <td>1627.52</td>\n",
       "      <td>0.0</td>\n",
       "      <td>0.0</td>\n",
       "      <td>0.0</td>\n",
       "      <td>S26a</td>\n",
       "    </tr>\n",
       "    <tr>\n",
       "      <th>2</th>\n",
       "      <td>0.0</td>\n",
       "      <td>0.0</td>\n",
       "      <td>0.0</td>\n",
       "      <td>7661.61</td>\n",
       "      <td>17451.80</td>\n",
       "      <td>85.17</td>\n",
       "      <td>373.47</td>\n",
       "      <td>42.2</td>\n",
       "      <td>134.68</td>\n",
       "      <td>1627.65</td>\n",
       "      <td>0.0</td>\n",
       "      <td>0.0</td>\n",
       "      <td>0.0</td>\n",
       "      <td>S26a</td>\n",
       "    </tr>\n",
       "    <tr>\n",
       "      <th>3</th>\n",
       "      <td>0.0</td>\n",
       "      <td>0.0</td>\n",
       "      <td>0.0</td>\n",
       "      <td>7656.61</td>\n",
       "      <td>17452.76</td>\n",
       "      <td>86.35</td>\n",
       "      <td>373.86</td>\n",
       "      <td>42.2</td>\n",
       "      <td>134.69</td>\n",
       "      <td>1627.69</td>\n",
       "      <td>0.0</td>\n",
       "      <td>0.0</td>\n",
       "      <td>0.0</td>\n",
       "      <td>S26a</td>\n",
       "    </tr>\n",
       "    <tr>\n",
       "      <th>4</th>\n",
       "      <td>0.0</td>\n",
       "      <td>0.0</td>\n",
       "      <td>0.0</td>\n",
       "      <td>7657.57</td>\n",
       "      <td>17448.74</td>\n",
       "      <td>86.39</td>\n",
       "      <td>374.54</td>\n",
       "      <td>42.2</td>\n",
       "      <td>132.80</td>\n",
       "      <td>1627.63</td>\n",
       "      <td>0.0</td>\n",
       "      <td>0.0</td>\n",
       "      <td>0.0</td>\n",
       "      <td>S26a</td>\n",
       "    </tr>\n",
       "  </tbody>\n",
       "</table>\n",
       "</div>"
      ],
      "text/plain": [
       "   部件工作时长  累积量参数1  累积量参数2     转速信号1     转速信号2  压力信号1   压力信号2  温度信号    流量信号  \\\n",
       "0     0.0     0.0     0.0  10801.19  24614.69  67.86  372.86  42.2  132.66   \n",
       "1     0.0     0.0     0.0   7666.51  17452.22  76.95  374.27  42.2  135.06   \n",
       "2     0.0     0.0     0.0   7661.61  17451.80  85.17  373.47  42.2  134.68   \n",
       "3     0.0     0.0     0.0   7656.61  17452.76  86.35  373.86  42.2  134.69   \n",
       "4     0.0     0.0     0.0   7657.57  17448.74  86.39  374.54  42.2  132.80   \n",
       "\n",
       "      电流信号  开关1信号  开关2信号  告警信号1  设备类型  \n",
       "0  1627.52    0.0    0.0    0.0  S26a  \n",
       "1  1627.52    0.0    0.0    0.0  S26a  \n",
       "2  1627.65    0.0    0.0    0.0  S26a  \n",
       "3  1627.69    0.0    0.0    0.0  S26a  \n",
       "4  1627.63    0.0    0.0    0.0  S26a  "
      ]
     },
     "execution_count": 5,
     "metadata": {},
     "output_type": "execute_result"
    }
   ],
   "source": [
    "first_train_research.head()"
   ]
  },
  {
   "cell_type": "code",
   "execution_count": 6,
   "metadata": {
    "ExecuteTime": {
     "end_time": "2019-07-19T09:03:21.479232Z",
     "start_time": "2019-07-19T09:03:21.379226Z"
    }
   },
   "outputs": [
    {
     "data": {
      "text/html": [
       "<div>\n",
       "<style scoped>\n",
       "    .dataframe tbody tr th:only-of-type {\n",
       "        vertical-align: middle;\n",
       "    }\n",
       "\n",
       "    .dataframe tbody tr th {\n",
       "        vertical-align: top;\n",
       "    }\n",
       "\n",
       "    .dataframe thead th {\n",
       "        text-align: right;\n",
       "    }\n",
       "</style>\n",
       "<table border=\"1\" class=\"dataframe\">\n",
       "  <thead>\n",
       "    <tr style=\"text-align: right;\">\n",
       "      <th></th>\n",
       "      <th>部件工作时长</th>\n",
       "      <th>累积量参数1</th>\n",
       "      <th>累积量参数2</th>\n",
       "      <th>转速信号1</th>\n",
       "      <th>转速信号2</th>\n",
       "      <th>压力信号1</th>\n",
       "      <th>压力信号2</th>\n",
       "      <th>温度信号</th>\n",
       "      <th>流量信号</th>\n",
       "      <th>电流信号</th>\n",
       "      <th>开关1信号</th>\n",
       "      <th>开关2信号</th>\n",
       "      <th>告警信号1</th>\n",
       "    </tr>\n",
       "  </thead>\n",
       "  <tbody>\n",
       "    <tr>\n",
       "      <th>count</th>\n",
       "      <td>55859.000000</td>\n",
       "      <td>55859.000000</td>\n",
       "      <td>55859.000000</td>\n",
       "      <td>55859.000000</td>\n",
       "      <td>55859.000000</td>\n",
       "      <td>55859.000000</td>\n",
       "      <td>55859.000000</td>\n",
       "      <td>55859.000000</td>\n",
       "      <td>55859.000000</td>\n",
       "      <td>55859.000000</td>\n",
       "      <td>55859.000000</td>\n",
       "      <td>55859.0</td>\n",
       "      <td>55859.000000</td>\n",
       "    </tr>\n",
       "    <tr>\n",
       "      <th>mean</th>\n",
       "      <td>4066.770592</td>\n",
       "      <td>76622.149242</td>\n",
       "      <td>81165.021975</td>\n",
       "      <td>7828.778586</td>\n",
       "      <td>17146.625721</td>\n",
       "      <td>118.529115</td>\n",
       "      <td>341.903339</td>\n",
       "      <td>60.995861</td>\n",
       "      <td>83.571954</td>\n",
       "      <td>829.339170</td>\n",
       "      <td>0.315527</td>\n",
       "      <td>0.0</td>\n",
       "      <td>0.029843</td>\n",
       "    </tr>\n",
       "    <tr>\n",
       "      <th>std</th>\n",
       "      <td>2227.611652</td>\n",
       "      <td>43287.889501</td>\n",
       "      <td>45491.092616</td>\n",
       "      <td>2924.623679</td>\n",
       "      <td>7760.556261</td>\n",
       "      <td>103.325901</td>\n",
       "      <td>61.408848</td>\n",
       "      <td>11.628993</td>\n",
       "      <td>43.019423</td>\n",
       "      <td>411.934032</td>\n",
       "      <td>0.464729</td>\n",
       "      <td>0.0</td>\n",
       "      <td>0.170156</td>\n",
       "    </tr>\n",
       "    <tr>\n",
       "      <th>min</th>\n",
       "      <td>0.000000</td>\n",
       "      <td>0.000000</td>\n",
       "      <td>0.000000</td>\n",
       "      <td>0.000000</td>\n",
       "      <td>0.010000</td>\n",
       "      <td>0.010000</td>\n",
       "      <td>0.000000</td>\n",
       "      <td>5.600000</td>\n",
       "      <td>0.000000</td>\n",
       "      <td>0.000000</td>\n",
       "      <td>0.000000</td>\n",
       "      <td>0.0</td>\n",
       "      <td>0.000000</td>\n",
       "    </tr>\n",
       "    <tr>\n",
       "      <th>25%</th>\n",
       "      <td>2181.250000</td>\n",
       "      <td>39674.250000</td>\n",
       "      <td>42402.750000</td>\n",
       "      <td>5202.400000</td>\n",
       "      <td>11845.520000</td>\n",
       "      <td>67.410000</td>\n",
       "      <td>334.920000</td>\n",
       "      <td>55.600000</td>\n",
       "      <td>49.030000</td>\n",
       "      <td>620.100000</td>\n",
       "      <td>0.000000</td>\n",
       "      <td>0.0</td>\n",
       "      <td>0.000000</td>\n",
       "    </tr>\n",
       "    <tr>\n",
       "      <th>50%</th>\n",
       "      <td>4185.500000</td>\n",
       "      <td>77357.500000</td>\n",
       "      <td>82797.000000</td>\n",
       "      <td>5322.170000</td>\n",
       "      <td>12005.350000</td>\n",
       "      <td>68.970000</td>\n",
       "      <td>354.340000</td>\n",
       "      <td>62.100000</td>\n",
       "      <td>73.550000</td>\n",
       "      <td>620.210000</td>\n",
       "      <td>0.000000</td>\n",
       "      <td>0.0</td>\n",
       "      <td>0.000000</td>\n",
       "    </tr>\n",
       "    <tr>\n",
       "      <th>75%</th>\n",
       "      <td>5880.250000</td>\n",
       "      <td>112950.750000</td>\n",
       "      <td>119518.750000</td>\n",
       "      <td>10728.185000</td>\n",
       "      <td>24432.870000</td>\n",
       "      <td>173.175000</td>\n",
       "      <td>371.640000</td>\n",
       "      <td>67.900000</td>\n",
       "      <td>132.350000</td>\n",
       "      <td>1178.270000</td>\n",
       "      <td>1.000000</td>\n",
       "      <td>0.0</td>\n",
       "      <td>0.000000</td>\n",
       "    </tr>\n",
       "    <tr>\n",
       "      <th>max</th>\n",
       "      <td>7942.500000</td>\n",
       "      <td>152438.000000</td>\n",
       "      <td>159607.500000</td>\n",
       "      <td>12985.950000</td>\n",
       "      <td>28973.530000</td>\n",
       "      <td>950.440000</td>\n",
       "      <td>472.030000</td>\n",
       "      <td>115.600000</td>\n",
       "      <td>138.500000</td>\n",
       "      <td>1627.800000</td>\n",
       "      <td>1.000000</td>\n",
       "      <td>0.0</td>\n",
       "      <td>1.000000</td>\n",
       "    </tr>\n",
       "  </tbody>\n",
       "</table>\n",
       "</div>"
      ],
      "text/plain": [
       "             部件工作时长         累积量参数1         累积量参数2         转速信号1         转速信号2  \\\n",
       "count  55859.000000   55859.000000   55859.000000  55859.000000  55859.000000   \n",
       "mean    4066.770592   76622.149242   81165.021975   7828.778586  17146.625721   \n",
       "std     2227.611652   43287.889501   45491.092616   2924.623679   7760.556261   \n",
       "min        0.000000       0.000000       0.000000      0.000000      0.010000   \n",
       "25%     2181.250000   39674.250000   42402.750000   5202.400000  11845.520000   \n",
       "50%     4185.500000   77357.500000   82797.000000   5322.170000  12005.350000   \n",
       "75%     5880.250000  112950.750000  119518.750000  10728.185000  24432.870000   \n",
       "max     7942.500000  152438.000000  159607.500000  12985.950000  28973.530000   \n",
       "\n",
       "              压力信号1         压力信号2          温度信号          流量信号          电流信号  \\\n",
       "count  55859.000000  55859.000000  55859.000000  55859.000000  55859.000000   \n",
       "mean     118.529115    341.903339     60.995861     83.571954    829.339170   \n",
       "std      103.325901     61.408848     11.628993     43.019423    411.934032   \n",
       "min        0.010000      0.000000      5.600000      0.000000      0.000000   \n",
       "25%       67.410000    334.920000     55.600000     49.030000    620.100000   \n",
       "50%       68.970000    354.340000     62.100000     73.550000    620.210000   \n",
       "75%      173.175000    371.640000     67.900000    132.350000   1178.270000   \n",
       "max      950.440000    472.030000    115.600000    138.500000   1627.800000   \n",
       "\n",
       "              开关1信号    开关2信号         告警信号1  \n",
       "count  55859.000000  55859.0  55859.000000  \n",
       "mean       0.315527      0.0      0.029843  \n",
       "std        0.464729      0.0      0.170156  \n",
       "min        0.000000      0.0      0.000000  \n",
       "25%        0.000000      0.0      0.000000  \n",
       "50%        0.000000      0.0      0.000000  \n",
       "75%        1.000000      0.0      0.000000  \n",
       "max        1.000000      0.0      1.000000  "
      ]
     },
     "execution_count": 6,
     "metadata": {},
     "output_type": "execute_result"
    }
   ],
   "source": [
    "first_train_research.describe()"
   ]
  },
  {
   "cell_type": "markdown",
   "metadata": {},
   "source": [
    "## 数据合并"
   ]
  },
  {
   "cell_type": "code",
   "execution_count": 7,
   "metadata": {
    "ExecuteTime": {
     "end_time": "2019-07-19T09:03:21.491233Z",
     "start_time": "2019-07-19T09:03:21.481232Z"
    }
   },
   "outputs": [],
   "source": [
    "df_train_label = pd.read_csv('df_train_label.csv')"
   ]
  },
  {
   "cell_type": "markdown",
   "metadata": {
    "ExecuteTime": {
     "end_time": "2019-07-19T07:26:55.345284Z",
     "start_time": "2019-07-19T07:12:10.960700Z"
    }
   },
   "source": [
    "parts_df = pd.DataFrame()\n",
    "for i in range(df_train_label.shape[0]):\n",
    "    parts_df = parts_df.append(pd.read_csv('./train/'+df_train_label['train_file_name'][i]))"
   ]
  },
  {
   "cell_type": "code",
   "execution_count": null,
   "metadata": {},
   "outputs": [],
   "source": []
  }
 ],
 "metadata": {
  "hide_input": false,
  "kernelspec": {
   "display_name": "Python 3",
   "language": "python",
   "name": "python3"
  },
  "language_info": {
   "codemirror_mode": {
    "name": "ipython",
    "version": 3
   },
   "file_extension": ".py",
   "mimetype": "text/x-python",
   "name": "python",
   "nbconvert_exporter": "python",
   "pygments_lexer": "ipython3",
   "version": "3.6.6"
  },
  "toc": {
   "base_numbering": 1,
   "nav_menu": {},
   "number_sections": true,
   "sideBar": true,
   "skip_h1_title": false,
   "title_cell": "Table of Contents",
   "title_sidebar": "Contents",
   "toc_cell": false,
   "toc_position": {
    "height": "calc(100% - 180px)",
    "left": "10px",
    "top": "150px",
    "width": "173.166px"
   },
   "toc_section_display": true,
   "toc_window_display": true
  }
 },
 "nbformat": 4,
 "nbformat_minor": 2
}
