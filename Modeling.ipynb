{
 "cells": [
  {
   "cell_type": "markdown",
   "metadata": {
    "ExecuteTime": {
     "end_time": "2019-08-08T01:59:21.685275Z",
     "start_time": "2019-08-08T01:59:21.677275Z"
    }
   },
   "source": [
    "# 概要"
   ]
  },
  {
   "cell_type": "markdown",
   "metadata": {
    "ExecuteTime": {
     "end_time": "2019-08-08T01:59:29.079698Z",
     "start_time": "2019-08-08T01:59:29.070698Z"
    }
   },
   "source": [
    "一、赛题背景\n",
    "\n",
    "预测性维护是工业互联网应用“皇冠上的明珠”，实现预测性维护的关键是对设备系统或核心部件的寿命进行有效预测。对工程机械设备的核心耗损性部件的剩余寿命进行预测，可以据此对于相关部件的进行提前维护或者更换，从而减少整个设备非计划停机时间，避免因计划外停机而带来的经济损失，比如导致整个生产现场其他配套设备等待故障设备部件的修复。\n",
    "\n",
    "二、赛事任务\n",
    "\n",
    "本赛题由中科云谷科技有限公司提供某类工程机械设备的核心耗损性部件的工作数据，包括部件工作时长、转速、温度、电压、电流等多类工况数据。希望参赛者利用大数据分析、机器学习、深度学习等方法，提取合适的特征、建立合适的寿命预测模型，预测核心耗损性部件的剩余寿命。\n",
    "\n",
    "三、开放数据\n",
    "\n",
    "针对某类工程机械设备的核心耗损性部件，数据集包含训练集和测试集两个部分。\n",
    "\n",
    "训练集中，每个文件对应一个该类部件的全寿命物联网采样数据，即从安装后一直到更换之间的对应数据，形式为多维时间序列。字段“部件工作时长”的最大值（通常为最后一行记录）即为该部件实例的实际寿命。（参见样例数据）\n",
    "\n",
    "测试集中，每个文件对应一个该类部件一段时间内的物联网采样数据，需要基于该段数据，预测该部件此后的剩余寿命。\n",
    "\n",
    "特征数据字段包括：部件工作时长, 累积量参数1，累积量参数2，转速信号1, 转速信号2, 压力信号1, 压力信号2, 温度信号, 流量信号, 电流信号, 开关1信号, 开关2信号, 告警信号1, 设备类型。其中：\n",
    "\n",
    "数值型字段包括：部件工作时长, 累积量参数1，累积量参数2，转速信号1, 转速信号2, 压力信号1, 压力信号2, 温度信号, 流量信号, 电流信号。\n",
    "\n",
    "开关量字段（0或1）：开关1信号, 开关2信号, 告警信号1\n",
    "\n",
    "字符串型字段：设备类型。\n",
    "\n",
    "除了开关量以外，上述设备类型、工况数据的具体值都经过了一定的脱敏处理，但已考虑尽量不影响数据蕴含的关系。\n",
    "\n",
    "赛题的算法预测精度的衡量标准公式如下：\n",
    "\n",
    "![工程机械寿命预测公式](工程机械寿命预测公式.png)\n",
    "\n",
    "其中，ri表示第i个样本的真实剩余寿命，r ̂_i表示第i个样本的预测剩余寿命。"
   ]
  },
  {
   "cell_type": "markdown",
   "metadata": {},
   "source": [
    "# 特征工程"
   ]
  },
  {
   "cell_type": "code",
   "execution_count": 1,
   "metadata": {
    "ExecuteTime": {
     "end_time": "2019-08-08T13:42:59.679006Z",
     "start_time": "2019-08-08T13:42:58.328929Z"
    }
   },
   "outputs": [],
   "source": [
    "import os\n",
    "import numpy as np\n",
    "import pandas as pd\n",
    "from itertools import groupby\n",
    "from scipy.stats import pearsonr"
   ]
  },
  {
   "cell_type": "code",
   "execution_count": 2,
   "metadata": {
    "ExecuteTime": {
     "end_time": "2019-08-08T13:42:59.685007Z",
     "start_time": "2019-08-08T13:42:59.682006Z"
    }
   },
   "outputs": [],
   "source": [
    "import warnings\n",
    "warnings.filterwarnings('ignore')"
   ]
  },
  {
   "cell_type": "markdown",
   "metadata": {},
   "source": [
    "## 获取文件名列表"
   ]
  },
  {
   "cell_type": "code",
   "execution_count": 3,
   "metadata": {
    "ExecuteTime": {
     "end_time": "2019-08-08T13:42:59.690007Z",
     "start_time": "2019-08-08T13:42:59.687007Z"
    }
   },
   "outputs": [],
   "source": [
    "train_path = './train'\n",
    "test_path = './test1'"
   ]
  },
  {
   "cell_type": "code",
   "execution_count": 4,
   "metadata": {
    "ExecuteTime": {
     "end_time": "2019-08-08T13:42:59.696007Z",
     "start_time": "2019-08-08T13:42:59.692007Z"
    }
   },
   "outputs": [],
   "source": [
    "def get_filelist(dir_path, flielist):\n",
    "    if os.path.isfile(dir_path):\n",
    "        flielist.append(dir_path)\n",
    "    elif os.path.isdir(dir_path):\n",
    "        for s in os.listdir(dir_path):\n",
    "            new_dir = os.path.join(dir_path, s)\n",
    "            get_filelist(new_dir, flielist)\n",
    "            \n",
    "    return flielist"
   ]
  },
  {
   "cell_type": "code",
   "execution_count": 5,
   "metadata": {
    "ExecuteTime": {
     "end_time": "2019-08-08T13:42:59.897019Z",
     "start_time": "2019-08-08T13:42:59.698007Z"
    }
   },
   "outputs": [],
   "source": [
    "train_list = get_filelist(train_path, [])\n",
    "test_list = get_filelist(test_path, [])"
   ]
  },
  {
   "cell_type": "markdown",
   "metadata": {},
   "source": [
    "## 单个文件处理"
   ]
  },
  {
   "cell_type": "markdown",
   "metadata": {},
   "source": [
    "**连续负值行填充为前后正常值的均值**"
   ]
  },
  {
   "cell_type": "code",
   "execution_count": 6,
   "metadata": {
    "ExecuteTime": {
     "end_time": "2019-08-08T13:42:59.906019Z",
     "start_time": "2019-08-08T13:42:59.899019Z"
    }
   },
   "outputs": [],
   "source": [
    "def continuous_negative_pro(df, index, feature_name):\n",
    "    for key, g_value in groupby(enumerate(index), lambda x: x[1]-x[0]):\n",
    "        each_g_lst = [element for i, element in g_value]\n",
    "        if len(each_g_lst) > 1:\n",
    "            ucl = min(each_g_lst) \n",
    "            dcl = max(each_g_lst)\n",
    "        else:\n",
    "            ucl = each_g_lst[0]\n",
    "            dcl = each_g_lst[0]\n",
    "        try:\n",
    "            df.iloc[ucl:dcl+1][feature_name] = (df.iloc[ucl-1][feature_name] + df.iloc[dcl+1][feature_name]) / 2\n",
    "        except Exception:\n",
    "            df.iloc[ucl:dcl+1][feature_name] = df[feature_name].mean()\n",
    "        \n",
    "    return df"
   ]
  },
  {
   "cell_type": "code",
   "execution_count": 7,
   "metadata": {
    "ExecuteTime": {
     "end_time": "2019-08-08T13:42:59.917020Z",
     "start_time": "2019-08-08T13:42:59.908019Z"
    }
   },
   "outputs": [],
   "source": [
    "def preprocess_single_file(path):\n",
    "    # 部件工作时长负值处理\n",
    "    # 删除部件工作时长为负的行\n",
    "    drop_negative = pd.read_csv(path)\n",
    "    drop_negative.drop(index=drop_negative['部件工作时长'][drop_negative['部件工作时长']<0].index, inplace=True)\n",
    "    \n",
    "    # 按部件工作时长升序重新生成DateFrame\n",
    "    drop_negative.sort_values(by=\"部件工作时长\", ascending=True, inplace=True, kind='mergesort')\n",
    "    cum_param1_fill = drop_negative.reset_index(drop=True)\n",
    "    \n",
    "    # 累积量参数1负值处理\n",
    "    # 连续负值行填充为前后正常值的均值\n",
    "    cum_param1_fill_index = cum_param1_fill['累积量参数1'][cum_param1_fill['累积量参数1']<0].index.sort_values()\n",
    "    if len(cum_param1_fill_index) > 0:\n",
    "        cum_param2_fill = continuous_negative_pro(cum_param1_fill, cum_param1_fill_index, '累积量参数1')\n",
    "    else:\n",
    "        cum_param2_fill = cum_param1_fill\n",
    "        \n",
    "    # 累积量参数2负值处理\n",
    "    cum_param2_fill_index = cum_param2_fill['累积量参数2'][cum_param2_fill['累积量参数2']<0].index.sort_values()\n",
    "    if len(cum_param2_fill_index) > 0:\n",
    "        temperature_fill = continuous_negative_pro(cum_param2_fill, cum_param2_fill_index, '累积量参数2')\n",
    "    else:\n",
    "        temperature_fill = cum_param2_fill\n",
    "        \n",
    "    # 温度信号负值处理\n",
    "    temperature_fill_index = temperature_fill['温度信号'][temperature_fill['温度信号']<0].index.sort_values()\n",
    "    if len(temperature_fill_index) > 0:\n",
    "        new_raw_data = continuous_negative_pro(temperature_fill, temperature_fill_index, '温度信号')\n",
    "    else:\n",
    "        new_raw_data = temperature_fill\n",
    "\n",
    "    return new_raw_data"
   ]
  },
  {
   "cell_type": "markdown",
   "metadata": {},
   "source": [
    "## 单项特征处理"
   ]
  },
  {
   "cell_type": "code",
   "execution_count": 8,
   "metadata": {
    "ExecuteTime": {
     "end_time": "2019-08-08T13:42:59.942021Z",
     "start_time": "2019-08-08T13:42:59.920020Z"
    }
   },
   "outputs": [],
   "source": [
    "# 根据name选择处理特征\n",
    "def single_feature_project(data, df, name, k):\n",
    "\n",
    "    # 开关与告警信号取其在总数据中的占比\n",
    "    if name == '开关1信号' or name == '开关2信号' or name == '告警信号1':\n",
    "        df[name + '时间占比'] = data.sum() / len(data)\n",
    "\n",
    "    # 温度信号取其均值、标准差与极差为特征\n",
    "    elif name == '温度信号':\n",
    "        df[name + '均值'] = data.mean()\n",
    "        df[name + '标准差'] = data.std()\n",
    "        df[name + '极差'] = data.ptp()\n",
    "\n",
    "    # 累积量参数取最大值、k个周期差分的均值与标准差作为特征\n",
    "    elif name == '累积量参数1' or name == '累积量参数2':\n",
    "        df[name] = data.max()\n",
    "        # 将数据移动k之后与原数据进行比较得出差异数据\n",
    "        data = data.diff(periods=k)\n",
    "        data = data.dropna()\n",
    "        df[name + str(k) + '阶差分均值'] = data.mean()\n",
    "        df[name + str(k) + '阶差分标准差'] = data.std()\n",
    "\n",
    "    # 电流信号主要分布在三段区间中，分别取其均值与标准差，加权后作为特征\n",
    "    elif name == '电流信号':\n",
    "        length = len(data)\n",
    "        low_current = list(num for num in data if 0 <= num < 20)\n",
    "        mid_current = list(num for num in data if 500 <= num < 750)\n",
    "        high_current = list(num for num in data if 800 <= num < 1800)\n",
    "        low_percentage = np.sum(low_current) / length\n",
    "        mid_percentage = np.sum(mid_current) / length\n",
    "        high_percentage = np.sum(high_current) / length\n",
    "        df[name + '低电流段均值'] = np.mean(low_current) * low_percentage\n",
    "        df[name + '中电流段均值'] = np.mean(mid_current) * mid_percentage\n",
    "        df[name + '高电流段均值'] = np.mean(high_current) * high_percentage\n",
    "        df[name + '低电流段标准差'] = np.std(low_current) * low_percentage\n",
    "        df[name + '中电流段标准差'] = np.std(mid_current) * mid_percentage\n",
    "        df[name + '高电流段标准差'] = np.std(high_current) * high_percentage\n",
    "\n",
    "    # 流量信号主要分布在三段区间中，分别取其均值与标准差，加权后作为特征\n",
    "    elif name == '流量信号':\n",
    "        length = len(data)\n",
    "        low_current = list(num for num in data if 0 <= num < 9)\n",
    "        mid_current = list(num for num in data if 10 <= num < 120)\n",
    "        high_current = list(num for num in data if 125 <= num < 145)\n",
    "        low_percentage = np.sum(low_current) / length\n",
    "        mid_percentage = np.sum(mid_current) / length\n",
    "        high_percentage = np.sum(high_current) / length\n",
    "        df[name + '低流量段均值'] = np.mean(low_current) * low_percentage\n",
    "        df[name + '中流量段均值'] = np.mean(mid_current) * mid_percentage\n",
    "        df[name + '高流量段均值'] = np.mean(high_current) * high_percentage\n",
    "        df[name + '低流量段标准差'] = np.std(low_current) * low_percentage\n",
    "        df[name + '中流量段标准差'] = np.std(mid_current) * mid_percentage\n",
    "        df[name + '高流量段标准差'] = np.std(high_current) * high_percentage\n",
    "\n",
    "    # 压力信号1主要分布在两段区间上，剩余值较小，取其标准差加权后作为特征\n",
    "    elif name == '压力信号1':\n",
    "        length = len(data)\n",
    "        low_pressure = list(num for num in data if 65 <= num <= 75)\n",
    "        high_pressure = list(num for num in data if 180 <= num <= 400)\n",
    "        low_percentage = np.sum(low_pressure) / length\n",
    "        high_percentage = np.sum(high_pressure) / length\n",
    "        df[name + '信号1低压力段标准差'] = np.std(low_pressure) * low_percentage\n",
    "        df[name + '信号1高压力段标准差'] = np.std(high_pressure) * high_percentage\n",
    "\n",
    "    # 压力信号2处理同上\n",
    "    elif name == '压力信号2':\n",
    "        length = len(data)\n",
    "        low_pressure = list(num for num in data if 0 <= num <= 50)\n",
    "        high_pressure = list(num for num in data if 200 <= num)\n",
    "        low_percentage = np.sum(low_pressure) / length\n",
    "        high_percentage = np.sum(high_pressure) / length\n",
    "        df[name + '信号2低压力段标准差'] = np.std(low_pressure) * low_percentage\n",
    "        df[name + '信号2高压力段标准差'] = np.std(high_pressure) * high_percentage\n",
    "\n",
    "    # 转速信号1主要分布在两段区间上，取其均值与标准差加权后作为特征\n",
    "    elif name == '转速信号1':\n",
    "        length = len(data)\n",
    "        low_pressure = list(num for num in data if 0 <= num <= 100)\n",
    "        high_pressure = list(num for num in data if 3000 <= num)\n",
    "        low_percentage = np.sum(low_pressure) / length\n",
    "        high_percentage = np.sum(high_pressure) / length\n",
    "        df[name + '信号1低转速段均值'] = np.mean(low_pressure) * low_percentage\n",
    "        df[name + '信号1高转速段均值'] = np.mean(high_pressure) * high_percentage\n",
    "        df[name + '信号1低转速段标准差'] = np.std(low_pressure) * low_percentage\n",
    "        df[name + '信号1高转速段标准差'] = np.std(high_pressure) * high_percentage\n",
    "\n",
    "    # 转速信号2主要分布在两段区间上，取其均值与标准差加权后作为特征\n",
    "    elif name == '转速信号2':\n",
    "        length = len(data)\n",
    "        low_pressure = list(num for num in data if 0 <= num <= 1000)\n",
    "        high_pressure = list(num for num in data if 10000 <= num)\n",
    "        low_percentage = np.sum(low_pressure) / length\n",
    "        high_percentage = np.sum(high_pressure) / length\n",
    "        df[name + '信号2极低转速段均值'] = np.mean(low_pressure) * low_percentage\n",
    "        df[name + '信号2高转速段均值'] = np.mean(high_pressure) * high_percentage\n",
    "        df[name + '信号2极低转速段标准差'] = np.std(low_pressure) * low_percentage\n",
    "        df[name + '信号2高转速段标准差'] = np.std(high_pressure) * high_percentage\n",
    "\n",
    "    return df"
   ]
  },
  {
   "cell_type": "markdown",
   "metadata": {},
   "source": [
    "## 耦合特征"
   ]
  },
  {
   "cell_type": "code",
   "execution_count": 9,
   "metadata": {
    "ExecuteTime": {
     "end_time": "2019-08-08T13:42:59.951022Z",
     "start_time": "2019-08-08T13:42:59.945021Z"
    }
   },
   "outputs": [],
   "source": [
    "# 构造转速信号1、转速信号2、压力信号1、压力信号2、温度信号、流量信号、电流信号的耦合特征\n",
    "def coupled_feature(dataframe, df):\n",
    "    # 取出列名表\n",
    "    column_list = dataframe.columns.values.tolist()\n",
    "\n",
    "    # 循环构造两两乘积特征\n",
    "    for i in range(3, 10):\n",
    "        for j in range(i + 1, 10):\n",
    "            mutiple = dataframe.iloc[:, [i]].values * dataframe.iloc[:, [j]].values\n",
    "            df[column_list[i] + '与' + column_list[j] + '乘积的均值'] = mutiple.mean()\n",
    "            df[column_list[i] + '与' + column_list[j] + '乘积的标准差'] = mutiple.std()\n",
    "\n",
    "    # 循环构造平方项特征\n",
    "    for i in range(3, 10):\n",
    "        square = dataframe.iloc[:, [i]].values * dataframe.iloc[:, [i]].values\n",
    "        df[column_list[i] + '平方项的均值'] = square.mean()\n",
    "        df[column_list[i] + '平方项的标准差'] = square.std()\n",
    "\n",
    "    return df"
   ]
  },
  {
   "cell_type": "markdown",
   "metadata": {},
   "source": [
    "## 单个样本特征提取"
   ]
  },
  {
   "cell_type": "code",
   "execution_count": 10,
   "metadata": {
    "ExecuteTime": {
     "end_time": "2019-08-08T13:42:59.962022Z",
     "start_time": "2019-08-08T13:42:59.953022Z"
    }
   },
   "outputs": [],
   "source": [
    "def process_single_sample(path, train_percentage, k):\n",
    "    # 单个文件预处理\n",
    "    new_raw_data = preprocess_single_file(path)\n",
    "    # 获取样本部件工作最大时长\n",
    "    work_life = new_raw_data['部件工作时长'].max()\n",
    "    # 根据train_percentage分割数据，生成新样本\n",
    "    new_data = new_raw_data[new_raw_data['部件工作时长'] <= work_life * train_percentage]\n",
    "    # 创建数据特征字典\n",
    "    # 设备类型特征相关性低：剔除\n",
    "    # 开关1信号、开关2信号、告警信号差异较大：剔除\n",
    "    dict_data = {'train_file_name': os.path.basename(path) + str(train_percentage),\n",
    "                 'current_life': np.log(new_data['部件工作时长'].max() + 1),\n",
    "                 'rest_life': np.log(work_life - new_data['部件工作时长'].max() + 1)\n",
    "                 }\n",
    "    # 单项特征提取\n",
    "    for item in ['部件工作时长', '累积量参数1', '累积量参数2', '转速信号1', '转速信号2', '压力信号1', '压力信号2', '温度信号', \n",
    "                 '流量信号', '电流信号', '开关1信号', '开关2信号', '告警信号1']:\n",
    "        dict_data = single_feature_project(new_data[item], dict_data, item, k)\n",
    "    # 耦合特征提取\n",
    "    dict_data = coupled_feature(new_data, dict_data)\n",
    "    # 输出特征df\n",
    "    single_sample_features = pd.DataFrame(dict_data, index=[0])\n",
    "    \n",
    "    return single_sample_features"
   ]
  },
  {
   "cell_type": "markdown",
   "metadata": {},
   "source": [
    "## 整合创建测试集与训练集"
   ]
  },
  {
   "cell_type": "code",
   "execution_count": 11,
   "metadata": {
    "ExecuteTime": {
     "end_time": "2019-08-08T13:42:59.969023Z",
     "start_time": "2019-08-08T13:42:59.964023Z"
    }
   },
   "outputs": [],
   "source": [
    "def integrated_process(path_list, test_or_not, k):\n",
    "    feature_df = pd.DataFrame()\n",
    "\n",
    "    if test_or_not:\n",
    "        # 测试集无需对数据进行分割处理\n",
    "        train_percentage_list = [1]\n",
    "    else:\n",
    "        # 训练集目的为预测剩余寿命，故将数据集分割\n",
    "        train_percentage_list = [0.45, 0.55, 0.63, 0.75, 0.85]\n",
    "\n",
    "    for path in path_list:\n",
    "        for train_percentage in train_percentage_list:\n",
    "            feature_df = feature_df.append(process_single_sample(path, train_percentage, k), ignore_index=True)\n",
    "            \n",
    "    columns = feature_df.columns.tolist()\n",
    "    for col in ['train_file_name', 'rest_life']:\n",
    "        columns.remove(col)\n",
    "    columns = ['train_file_name'] + columns + ['rest_life']\n",
    "    \n",
    "    if test_or_not:\n",
    "        feature_df['train_file_name'] = feature_df['train_file_name'].apply(lambda x: x[:-1])\n",
    "        \n",
    "    feature_df = feature_df.reindex(columns=columns)\n",
    "\n",
    "    return feature_df"
   ]
  },
  {
   "cell_type": "markdown",
   "metadata": {},
   "source": [
    "# 数据建模"
   ]
  },
  {
   "cell_type": "markdown",
   "metadata": {},
   "source": [
    "## 创建数据集"
   ]
  },
  {
   "cell_type": "markdown",
   "metadata": {},
   "source": [
    "**时间点保留值**"
   ]
  },
  {
   "cell_type": "code",
   "execution_count": 12,
   "metadata": {
    "ExecuteTime": {
     "end_time": "2019-08-08T13:42:59.975023Z",
     "start_time": "2019-08-08T13:42:59.971023Z"
    }
   },
   "outputs": [],
   "source": [
    "num_k = 12"
   ]
  },
  {
   "cell_type": "markdown",
   "metadata": {},
   "source": [
    "### 训练集"
   ]
  },
  {
   "cell_type": "code",
   "execution_count": 13,
   "metadata": {
    "ExecuteTime": {
     "end_time": "2019-08-08T14:01:06.199152Z",
     "start_time": "2019-08-08T13:42:59.977023Z"
    }
   },
   "outputs": [],
   "source": [
    "train = integrated_process(train_list, False, num_k)"
   ]
  },
  {
   "cell_type": "code",
   "execution_count": 14,
   "metadata": {
    "ExecuteTime": {
     "end_time": "2019-08-08T14:01:06.238154Z",
     "start_time": "2019-08-08T14:01:06.201152Z"
    },
    "collapsed": true
   },
   "outputs": [
    {
     "data": {
      "text/html": [
       "<div>\n",
       "<style scoped>\n",
       "    .dataframe tbody tr th:only-of-type {\n",
       "        vertical-align: middle;\n",
       "    }\n",
       "\n",
       "    .dataframe tbody tr th {\n",
       "        vertical-align: top;\n",
       "    }\n",
       "\n",
       "    .dataframe thead th {\n",
       "        text-align: right;\n",
       "    }\n",
       "</style>\n",
       "<table border=\"1\" class=\"dataframe\">\n",
       "  <thead>\n",
       "    <tr style=\"text-align: right;\">\n",
       "      <th></th>\n",
       "      <th>train_file_name</th>\n",
       "      <th>current_life</th>\n",
       "      <th>累积量参数1</th>\n",
       "      <th>累积量参数112阶差分均值</th>\n",
       "      <th>累积量参数112阶差分标准差</th>\n",
       "      <th>累积量参数2</th>\n",
       "      <th>累积量参数212阶差分均值</th>\n",
       "      <th>累积量参数212阶差分标准差</th>\n",
       "      <th>转速信号1信号1低转速段均值</th>\n",
       "      <th>转速信号1信号1高转速段均值</th>\n",
       "      <th>...</th>\n",
       "      <th>压力信号1平方项的标准差</th>\n",
       "      <th>压力信号2平方项的均值</th>\n",
       "      <th>压力信号2平方项的标准差</th>\n",
       "      <th>温度信号平方项的均值</th>\n",
       "      <th>温度信号平方项的标准差</th>\n",
       "      <th>流量信号平方项的均值</th>\n",
       "      <th>流量信号平方项的标准差</th>\n",
       "      <th>电流信号平方项的均值</th>\n",
       "      <th>电流信号平方项的标准差</th>\n",
       "      <th>rest_life</th>\n",
       "    </tr>\n",
       "  </thead>\n",
       "  <tbody>\n",
       "    <tr>\n",
       "      <th>0</th>\n",
       "      <td>00fb58ecd675062e4423.csv0.45</td>\n",
       "      <td>8.181301</td>\n",
       "      <td>65560.0</td>\n",
       "      <td>33.940715</td>\n",
       "      <td>158.108275</td>\n",
       "      <td>70109.0</td>\n",
       "      <td>36.295219</td>\n",
       "      <td>158.690456</td>\n",
       "      <td>0.038098</td>\n",
       "      <td>6.198263e+07</td>\n",
       "      <td>...</td>\n",
       "      <td>71708.267142</td>\n",
       "      <td>121337.130736</td>\n",
       "      <td>27555.678773</td>\n",
       "      <td>3696.849270</td>\n",
       "      <td>1335.967940</td>\n",
       "      <td>8052.022287</td>\n",
       "      <td>7000.929978</td>\n",
       "      <td>872179.686018</td>\n",
       "      <td>797500.460414</td>\n",
       "      <td>8.382747</td>\n",
       "    </tr>\n",
       "    <tr>\n",
       "      <th>1</th>\n",
       "      <td>00fb58ecd675062e4423.csv0.55</td>\n",
       "      <td>8.380801</td>\n",
       "      <td>80245.0</td>\n",
       "      <td>33.024149</td>\n",
       "      <td>157.125505</td>\n",
       "      <td>85943.0</td>\n",
       "      <td>35.368277</td>\n",
       "      <td>159.312174</td>\n",
       "      <td>0.035908</td>\n",
       "      <td>6.173523e+07</td>\n",
       "      <td>...</td>\n",
       "      <td>80473.078233</td>\n",
       "      <td>119507.691084</td>\n",
       "      <td>26938.164021</td>\n",
       "      <td>3858.818043</td>\n",
       "      <td>1359.968261</td>\n",
       "      <td>7973.518055</td>\n",
       "      <td>6922.163799</td>\n",
       "      <td>860445.942874</td>\n",
       "      <td>791749.318885</td>\n",
       "      <td>8.183677</td>\n",
       "    </tr>\n",
       "    <tr>\n",
       "      <th>2</th>\n",
       "      <td>00fb58ecd675062e4423.csv0.63</td>\n",
       "      <td>8.518093</td>\n",
       "      <td>94880.5</td>\n",
       "      <td>32.700511</td>\n",
       "      <td>163.874058</td>\n",
       "      <td>100191.0</td>\n",
       "      <td>34.528764</td>\n",
       "      <td>161.120839</td>\n",
       "      <td>0.039156</td>\n",
       "      <td>6.203548e+07</td>\n",
       "      <td>...</td>\n",
       "      <td>88845.868822</td>\n",
       "      <td>117654.521918</td>\n",
       "      <td>27082.908908</td>\n",
       "      <td>3952.262971</td>\n",
       "      <td>1410.770430</td>\n",
       "      <td>8275.196679</td>\n",
       "      <td>7069.322492</td>\n",
       "      <td>850064.764294</td>\n",
       "      <td>788084.063288</td>\n",
       "      <td>7.986165</td>\n",
       "    </tr>\n",
       "  </tbody>\n",
       "</table>\n",
       "<p>3 rows × 95 columns</p>\n",
       "</div>"
      ],
      "text/plain": [
       "                train_file_name  current_life   累积量参数1  累积量参数112阶差分均值  \\\n",
       "0  00fb58ecd675062e4423.csv0.45      8.181301  65560.0      33.940715   \n",
       "1  00fb58ecd675062e4423.csv0.55      8.380801  80245.0      33.024149   \n",
       "2  00fb58ecd675062e4423.csv0.63      8.518093  94880.5      32.700511   \n",
       "\n",
       "   累积量参数112阶差分标准差    累积量参数2  累积量参数212阶差分均值  累积量参数212阶差分标准差  转速信号1信号1低转速段均值  \\\n",
       "0      158.108275   70109.0      36.295219      158.690456        0.038098   \n",
       "1      157.125505   85943.0      35.368277      159.312174        0.035908   \n",
       "2      163.874058  100191.0      34.528764      161.120839        0.039156   \n",
       "\n",
       "   转速信号1信号1高转速段均值    ...      压力信号1平方项的标准差    压力信号2平方项的均值  压力信号2平方项的标准差  \\\n",
       "0    6.198263e+07    ...      71708.267142  121337.130736  27555.678773   \n",
       "1    6.173523e+07    ...      80473.078233  119507.691084  26938.164021   \n",
       "2    6.203548e+07    ...      88845.868822  117654.521918  27082.908908   \n",
       "\n",
       "    温度信号平方项的均值  温度信号平方项的标准差   流量信号平方项的均值  流量信号平方项的标准差     电流信号平方项的均值  \\\n",
       "0  3696.849270  1335.967940  8052.022287  7000.929978  872179.686018   \n",
       "1  3858.818043  1359.968261  7973.518055  6922.163799  860445.942874   \n",
       "2  3952.262971  1410.770430  8275.196679  7069.322492  850064.764294   \n",
       "\n",
       "     电流信号平方项的标准差  rest_life  \n",
       "0  797500.460414   8.382747  \n",
       "1  791749.318885   8.183677  \n",
       "2  788084.063288   7.986165  \n",
       "\n",
       "[3 rows x 95 columns]"
      ]
     },
     "execution_count": 14,
     "metadata": {},
     "output_type": "execute_result"
    }
   ],
   "source": [
    "train.head(3)"
   ]
  },
  {
   "cell_type": "markdown",
   "metadata": {
    "ExecuteTime": {
     "end_time": "2019-08-08T11:46:17.210488Z",
     "start_time": "2019-08-08T11:46:17.175486Z"
    }
   },
   "source": [
    "### 测试集"
   ]
  },
  {
   "cell_type": "code",
   "execution_count": 15,
   "metadata": {
    "ExecuteTime": {
     "end_time": "2019-08-08T14:04:11.167731Z",
     "start_time": "2019-08-08T14:01:06.242154Z"
    }
   },
   "outputs": [],
   "source": [
    "test = integrated_process(test_list, True, num_k)"
   ]
  },
  {
   "cell_type": "code",
   "execution_count": 16,
   "metadata": {
    "ExecuteTime": {
     "end_time": "2019-08-08T14:04:11.198733Z",
     "start_time": "2019-08-08T14:04:11.169731Z"
    },
    "collapsed": true
   },
   "outputs": [
    {
     "data": {
      "text/html": [
       "<div>\n",
       "<style scoped>\n",
       "    .dataframe tbody tr th:only-of-type {\n",
       "        vertical-align: middle;\n",
       "    }\n",
       "\n",
       "    .dataframe tbody tr th {\n",
       "        vertical-align: top;\n",
       "    }\n",
       "\n",
       "    .dataframe thead th {\n",
       "        text-align: right;\n",
       "    }\n",
       "</style>\n",
       "<table border=\"1\" class=\"dataframe\">\n",
       "  <thead>\n",
       "    <tr style=\"text-align: right;\">\n",
       "      <th></th>\n",
       "      <th>train_file_name</th>\n",
       "      <th>current_life</th>\n",
       "      <th>累积量参数1</th>\n",
       "      <th>累积量参数112阶差分均值</th>\n",
       "      <th>累积量参数112阶差分标准差</th>\n",
       "      <th>累积量参数2</th>\n",
       "      <th>累积量参数212阶差分均值</th>\n",
       "      <th>累积量参数212阶差分标准差</th>\n",
       "      <th>转速信号1信号1低转速段均值</th>\n",
       "      <th>转速信号1信号1高转速段均值</th>\n",
       "      <th>...</th>\n",
       "      <th>压力信号1平方项的标准差</th>\n",
       "      <th>压力信号2平方项的均值</th>\n",
       "      <th>压力信号2平方项的标准差</th>\n",
       "      <th>温度信号平方项的均值</th>\n",
       "      <th>温度信号平方项的标准差</th>\n",
       "      <th>流量信号平方项的均值</th>\n",
       "      <th>流量信号平方项的标准差</th>\n",
       "      <th>电流信号平方项的均值</th>\n",
       "      <th>电流信号平方项的标准差</th>\n",
       "      <th>rest_life</th>\n",
       "    </tr>\n",
       "  </thead>\n",
       "  <tbody>\n",
       "    <tr>\n",
       "      <th>0</th>\n",
       "      <td>002ece6be8b41a5613aa.csv</td>\n",
       "      <td>6.144186</td>\n",
       "      <td>6908.0</td>\n",
       "      <td>29.568513</td>\n",
       "      <td>134.437747</td>\n",
       "      <td>7637.5</td>\n",
       "      <td>32.765306</td>\n",
       "      <td>144.481097</td>\n",
       "      <td>0.009774</td>\n",
       "      <td>5.972816e+07</td>\n",
       "      <td>...</td>\n",
       "      <td>42260.900138</td>\n",
       "      <td>121495.907389</td>\n",
       "      <td>35527.019175</td>\n",
       "      <td>2447.471742</td>\n",
       "      <td>1609.752100</td>\n",
       "      <td>10570.471066</td>\n",
       "      <td>6774.181528</td>\n",
       "      <td>9.183055e+05</td>\n",
       "      <td>800452.370241</td>\n",
       "      <td>0.0</td>\n",
       "    </tr>\n",
       "    <tr>\n",
       "      <th>1</th>\n",
       "      <td>004a2ad4b735329a3e23.csv</td>\n",
       "      <td>5.961649</td>\n",
       "      <td>5830.0</td>\n",
       "      <td>28.831529</td>\n",
       "      <td>133.456313</td>\n",
       "      <td>5681.0</td>\n",
       "      <td>28.511044</td>\n",
       "      <td>110.416093</td>\n",
       "      <td>0.002348</td>\n",
       "      <td>5.423300e+07</td>\n",
       "      <td>...</td>\n",
       "      <td>40737.218562</td>\n",
       "      <td>130700.673252</td>\n",
       "      <td>32732.798894</td>\n",
       "      <td>2453.532714</td>\n",
       "      <td>662.566167</td>\n",
       "      <td>3157.795409</td>\n",
       "      <td>4675.441443</td>\n",
       "      <td>1.356012e+06</td>\n",
       "      <td>754860.700099</td>\n",
       "      <td>0.0</td>\n",
       "    </tr>\n",
       "    <tr>\n",
       "      <th>2</th>\n",
       "      <td>004c675bb05d447aa94b.csv</td>\n",
       "      <td>7.914435</td>\n",
       "      <td>51106.0</td>\n",
       "      <td>4.158292</td>\n",
       "      <td>66.202387</td>\n",
       "      <td>56979.0</td>\n",
       "      <td>4.635855</td>\n",
       "      <td>72.009403</td>\n",
       "      <td>NaN</td>\n",
       "      <td>1.179689e+08</td>\n",
       "      <td>...</td>\n",
       "      <td>107884.064795</td>\n",
       "      <td>151709.150527</td>\n",
       "      <td>37294.542169</td>\n",
       "      <td>3653.465596</td>\n",
       "      <td>1043.198004</td>\n",
       "      <td>11268.020296</td>\n",
       "      <td>6875.748431</td>\n",
       "      <td>1.232041e+06</td>\n",
       "      <td>521014.106011</td>\n",
       "      <td>0.0</td>\n",
       "    </tr>\n",
       "  </tbody>\n",
       "</table>\n",
       "<p>3 rows × 95 columns</p>\n",
       "</div>"
      ],
      "text/plain": [
       "            train_file_name  current_life   累积量参数1  累积量参数112阶差分均值  \\\n",
       "0  002ece6be8b41a5613aa.csv      6.144186   6908.0      29.568513   \n",
       "1  004a2ad4b735329a3e23.csv      5.961649   5830.0      28.831529   \n",
       "2  004c675bb05d447aa94b.csv      7.914435  51106.0       4.158292   \n",
       "\n",
       "   累积量参数112阶差分标准差   累积量参数2  累积量参数212阶差分均值  累积量参数212阶差分标准差  转速信号1信号1低转速段均值  \\\n",
       "0      134.437747   7637.5      32.765306      144.481097        0.009774   \n",
       "1      133.456313   5681.0      28.511044      110.416093        0.002348   \n",
       "2       66.202387  56979.0       4.635855       72.009403             NaN   \n",
       "\n",
       "   转速信号1信号1高转速段均值    ...       压力信号1平方项的标准差    压力信号2平方项的均值  压力信号2平方项的标准差  \\\n",
       "0    5.972816e+07    ...       42260.900138  121495.907389  35527.019175   \n",
       "1    5.423300e+07    ...       40737.218562  130700.673252  32732.798894   \n",
       "2    1.179689e+08    ...      107884.064795  151709.150527  37294.542169   \n",
       "\n",
       "    温度信号平方项的均值  温度信号平方项的标准差    流量信号平方项的均值  流量信号平方项的标准差    电流信号平方项的均值  \\\n",
       "0  2447.471742  1609.752100  10570.471066  6774.181528  9.183055e+05   \n",
       "1  2453.532714   662.566167   3157.795409  4675.441443  1.356012e+06   \n",
       "2  3653.465596  1043.198004  11268.020296  6875.748431  1.232041e+06   \n",
       "\n",
       "     电流信号平方项的标准差  rest_life  \n",
       "0  800452.370241        0.0  \n",
       "1  754860.700099        0.0  \n",
       "2  521014.106011        0.0  \n",
       "\n",
       "[3 rows x 95 columns]"
      ]
     },
     "execution_count": 16,
     "metadata": {},
     "output_type": "execute_result"
    }
   ],
   "source": [
    "test.head(3)"
   ]
  },
  {
   "cell_type": "markdown",
   "metadata": {},
   "source": [
    "### 训练集、测试集合并"
   ]
  },
  {
   "cell_type": "code",
   "execution_count": 17,
   "metadata": {
    "ExecuteTime": {
     "end_time": "2019-08-08T14:04:11.211734Z",
     "start_time": "2019-08-08T14:04:11.200733Z"
    }
   },
   "outputs": [],
   "source": [
    "train_test = pd.concat([train, test], join='outer', axis=0).reset_index(drop=True)"
   ]
  },
  {
   "cell_type": "code",
   "execution_count": 18,
   "metadata": {
    "ExecuteTime": {
     "end_time": "2019-08-08T14:04:11.239735Z",
     "start_time": "2019-08-08T14:04:11.213734Z"
    },
    "collapsed": true
   },
   "outputs": [
    {
     "data": {
      "text/html": [
       "<div>\n",
       "<style scoped>\n",
       "    .dataframe tbody tr th:only-of-type {\n",
       "        vertical-align: middle;\n",
       "    }\n",
       "\n",
       "    .dataframe tbody tr th {\n",
       "        vertical-align: top;\n",
       "    }\n",
       "\n",
       "    .dataframe thead th {\n",
       "        text-align: right;\n",
       "    }\n",
       "</style>\n",
       "<table border=\"1\" class=\"dataframe\">\n",
       "  <thead>\n",
       "    <tr style=\"text-align: right;\">\n",
       "      <th></th>\n",
       "      <th>train_file_name</th>\n",
       "      <th>current_life</th>\n",
       "      <th>累积量参数1</th>\n",
       "      <th>累积量参数112阶差分均值</th>\n",
       "      <th>累积量参数112阶差分标准差</th>\n",
       "      <th>累积量参数2</th>\n",
       "      <th>累积量参数212阶差分均值</th>\n",
       "      <th>累积量参数212阶差分标准差</th>\n",
       "      <th>转速信号1信号1低转速段均值</th>\n",
       "      <th>转速信号1信号1高转速段均值</th>\n",
       "      <th>...</th>\n",
       "      <th>压力信号1平方项的标准差</th>\n",
       "      <th>压力信号2平方项的均值</th>\n",
       "      <th>压力信号2平方项的标准差</th>\n",
       "      <th>温度信号平方项的均值</th>\n",
       "      <th>温度信号平方项的标准差</th>\n",
       "      <th>流量信号平方项的均值</th>\n",
       "      <th>流量信号平方项的标准差</th>\n",
       "      <th>电流信号平方项的均值</th>\n",
       "      <th>电流信号平方项的标准差</th>\n",
       "      <th>rest_life</th>\n",
       "    </tr>\n",
       "  </thead>\n",
       "  <tbody>\n",
       "    <tr>\n",
       "      <th>5466</th>\n",
       "      <td>ffb78f9b18e44f78bd49.csv</td>\n",
       "      <td>7.721681</td>\n",
       "      <td>44022.0</td>\n",
       "      <td>37.875423</td>\n",
       "      <td>217.866884</td>\n",
       "      <td>41086.5</td>\n",
       "      <td>35.308850</td>\n",
       "      <td>162.607325</td>\n",
       "      <td>0.020551</td>\n",
       "      <td>5.318975e+07</td>\n",
       "      <td>...</td>\n",
       "      <td>26366.398116</td>\n",
       "      <td>145185.755166</td>\n",
       "      <td>25598.333558</td>\n",
       "      <td>3412.841754</td>\n",
       "      <td>726.129560</td>\n",
       "      <td>5145.434839</td>\n",
       "      <td>4836.751536</td>\n",
       "      <td>8.351913e+05</td>\n",
       "      <td>790801.066760</td>\n",
       "      <td>0.0</td>\n",
       "    </tr>\n",
       "    <tr>\n",
       "      <th>5467</th>\n",
       "      <td>ffbefac0e4396bacb898.csv</td>\n",
       "      <td>6.021630</td>\n",
       "      <td>6462.5</td>\n",
       "      <td>31.769800</td>\n",
       "      <td>171.178668</td>\n",
       "      <td>6422.0</td>\n",
       "      <td>32.420801</td>\n",
       "      <td>152.601540</td>\n",
       "      <td>0.022325</td>\n",
       "      <td>6.245496e+07</td>\n",
       "      <td>...</td>\n",
       "      <td>21132.271068</td>\n",
       "      <td>111990.584433</td>\n",
       "      <td>28448.152873</td>\n",
       "      <td>3801.803026</td>\n",
       "      <td>1141.714802</td>\n",
       "      <td>4595.224056</td>\n",
       "      <td>4592.916978</td>\n",
       "      <td>7.967952e+05</td>\n",
       "      <td>732289.335107</td>\n",
       "      <td>0.0</td>\n",
       "    </tr>\n",
       "    <tr>\n",
       "      <th>5468</th>\n",
       "      <td>ffe279f5242310018444.csv</td>\n",
       "      <td>6.427297</td>\n",
       "      <td>8272.0</td>\n",
       "      <td>30.765951</td>\n",
       "      <td>115.666400</td>\n",
       "      <td>8164.0</td>\n",
       "      <td>30.791851</td>\n",
       "      <td>103.766986</td>\n",
       "      <td>0.019938</td>\n",
       "      <td>5.861260e+07</td>\n",
       "      <td>...</td>\n",
       "      <td>28493.799239</td>\n",
       "      <td>128793.967107</td>\n",
       "      <td>26425.749230</td>\n",
       "      <td>1878.784103</td>\n",
       "      <td>502.935815</td>\n",
       "      <td>4041.750117</td>\n",
       "      <td>4436.299935</td>\n",
       "      <td>1.467741e+06</td>\n",
       "      <td>636649.009001</td>\n",
       "      <td>0.0</td>\n",
       "    </tr>\n",
       "  </tbody>\n",
       "</table>\n",
       "<p>3 rows × 95 columns</p>\n",
       "</div>"
      ],
      "text/plain": [
       "               train_file_name  current_life   累积量参数1  累积量参数112阶差分均值  \\\n",
       "5466  ffb78f9b18e44f78bd49.csv      7.721681  44022.0      37.875423   \n",
       "5467  ffbefac0e4396bacb898.csv      6.021630   6462.5      31.769800   \n",
       "5468  ffe279f5242310018444.csv      6.427297   8272.0      30.765951   \n",
       "\n",
       "      累积量参数112阶差分标准差   累积量参数2  累积量参数212阶差分均值  累积量参数212阶差分标准差  转速信号1信号1低转速段均值  \\\n",
       "5466      217.866884  41086.5      35.308850      162.607325        0.020551   \n",
       "5467      171.178668   6422.0      32.420801      152.601540        0.022325   \n",
       "5468      115.666400   8164.0      30.791851      103.766986        0.019938   \n",
       "\n",
       "      转速信号1信号1高转速段均值    ...      压力信号1平方项的标准差    压力信号2平方项的均值  压力信号2平方项的标准差  \\\n",
       "5466    5.318975e+07    ...      26366.398116  145185.755166  25598.333558   \n",
       "5467    6.245496e+07    ...      21132.271068  111990.584433  28448.152873   \n",
       "5468    5.861260e+07    ...      28493.799239  128793.967107  26425.749230   \n",
       "\n",
       "       温度信号平方项的均值  温度信号平方项的标准差   流量信号平方项的均值  流量信号平方项的标准差    电流信号平方项的均值  \\\n",
       "5466  3412.841754   726.129560  5145.434839  4836.751536  8.351913e+05   \n",
       "5467  3801.803026  1141.714802  4595.224056  4592.916978  7.967952e+05   \n",
       "5468  1878.784103   502.935815  4041.750117  4436.299935  1.467741e+06   \n",
       "\n",
       "        电流信号平方项的标准差  rest_life  \n",
       "5466  790801.066760        0.0  \n",
       "5467  732289.335107        0.0  \n",
       "5468  636649.009001        0.0  \n",
       "\n",
       "[3 rows x 95 columns]"
      ]
     },
     "execution_count": 18,
     "metadata": {},
     "output_type": "execute_result"
    }
   ],
   "source": [
    "train_test.tail(3)"
   ]
  },
  {
   "cell_type": "markdown",
   "metadata": {},
   "source": [
    "## 数据集整理"
   ]
  },
  {
   "cell_type": "markdown",
   "metadata": {},
   "source": [
    "### 填充NAN值"
   ]
  },
  {
   "cell_type": "code",
   "execution_count": 19,
   "metadata": {
    "ExecuteTime": {
     "end_time": "2019-08-08T14:04:11.247736Z",
     "start_time": "2019-08-08T14:04:11.241735Z"
    }
   },
   "outputs": [],
   "source": [
    "train_test.fillna(0, inplace=True)"
   ]
  },
  {
   "cell_type": "markdown",
   "metadata": {},
   "source": [
    "### 特征列标准化"
   ]
  },
  {
   "cell_type": "code",
   "execution_count": 20,
   "metadata": {
    "ExecuteTime": {
     "end_time": "2019-08-08T14:04:11.253736Z",
     "start_time": "2019-08-08T14:04:11.250736Z"
    }
   },
   "outputs": [],
   "source": [
    "column_names = train_test.columns.values.tolist()\n",
    "special_column_names = ['train_file_name'] + ['current_life'] + ['rest_life']\n",
    "for item in special_column_names:\n",
    "    column_names.remove(item)"
   ]
  },
  {
   "cell_type": "code",
   "execution_count": 21,
   "metadata": {
    "ExecuteTime": {
     "end_time": "2019-08-08T14:04:11.347742Z",
     "start_time": "2019-08-08T14:04:11.257736Z"
    }
   },
   "outputs": [],
   "source": [
    "for item in column_names:\n",
    "    std_temp = train_test[item].std()\n",
    "\n",
    "    if std_temp <= 1:\n",
    "        train_test[item] = np.exp(train_test[item])\n",
    "        std_temp2 = train_test[item].std()\n",
    "\n",
    "        if std_temp2 < 1:\n",
    "            del train_test[item]\n",
    "\n",
    "    elif std_temp > 10:\n",
    "        train_test[item] = np.log(train_test[item] + 1)"
   ]
  },
  {
   "cell_type": "markdown",
   "metadata": {},
   "source": [
    "### 皮尔森相关系数"
   ]
  },
  {
   "cell_type": "code",
   "execution_count": 22,
   "metadata": {
    "ExecuteTime": {
     "end_time": "2019-08-08T14:04:11.356742Z",
     "start_time": "2019-08-08T14:04:11.349742Z"
    }
   },
   "outputs": [],
   "source": [
    "def pearson(data):\n",
    "    column_num_list = []\n",
    "\n",
    "    for i in range(2, data.shape[1] - 1):\n",
    "        a = data.iloc[:, [i]].values.flatten()\n",
    "        b = data['rest_life'].values.flatten()\n",
    "        r, p = pearsonr(a, b)\n",
    "        if r == np.nan:\n",
    "            column_num_list.append(i)\n",
    "\n",
    "    data.drop(data.columns[column_num_list], axis=1, inplace=True)\n",
    "    \n",
    "    return data"
   ]
  },
  {
   "cell_type": "code",
   "execution_count": 23,
   "metadata": {
    "ExecuteTime": {
     "end_time": "2019-08-08T14:04:11.435747Z",
     "start_time": "2019-08-08T14:04:11.359742Z"
    }
   },
   "outputs": [],
   "source": [
    "train_test = pearson(train_test)"
   ]
  },
  {
   "cell_type": "markdown",
   "metadata": {},
   "source": [
    "## LightGBM模型"
   ]
  },
  {
   "cell_type": "code",
   "execution_count": 24,
   "metadata": {
    "ExecuteTime": {
     "end_time": "2019-08-08T14:04:11.607756Z",
     "start_time": "2019-08-08T14:04:11.437747Z"
    }
   },
   "outputs": [],
   "source": [
    "import lightgbm as lgb\n",
    "from sklearn.model_selection import KFold"
   ]
  },
  {
   "cell_type": "markdown",
   "metadata": {},
   "source": [
    "### 模型参数"
   ]
  },
  {
   "cell_type": "code",
   "execution_count": 25,
   "metadata": {
    "ExecuteTime": {
     "end_time": "2019-08-08T14:04:11.613757Z",
     "start_time": "2019-08-08T14:04:11.609756Z"
    }
   },
   "outputs": [],
   "source": [
    "params_lgb = {'num_leaves': 250,\n",
    "              'max_depth': 5,\n",
    "              'learning_rate': 0.01,\n",
    "              'objective': 'regression',\n",
    "              'boosting': 'gbdt',\n",
    "              'verbosity': -1}"
   ]
  },
  {
   "cell_type": "code",
   "execution_count": 26,
   "metadata": {
    "ExecuteTime": {
     "end_time": "2019-08-08T14:04:11.622757Z",
     "start_time": "2019-08-08T14:04:11.617757Z"
    }
   },
   "outputs": [],
   "source": [
    "fit_params_lgb = {'num_boost_round': 2500,\n",
    "                  'verbose_eval': 200,\n",
    "                  'early_stopping_rounds': 200}"
   ]
  },
  {
   "cell_type": "markdown",
   "metadata": {},
   "source": [
    "### 评价指标"
   ]
  },
  {
   "cell_type": "code",
   "execution_count": 27,
   "metadata": {
    "ExecuteTime": {
     "end_time": "2019-08-08T14:04:11.628758Z",
     "start_time": "2019-08-08T14:04:11.624757Z"
    }
   },
   "outputs": [],
   "source": [
    "def compute_loss(target, predict):\n",
    "    temp = np.log(abs(target + 1)) - np.log(abs(predict + 1))\n",
    "    res = np.sqrt(np.dot(temp, temp) / len(temp))\n",
    "    return res"
   ]
  },
  {
   "cell_type": "markdown",
   "metadata": {},
   "source": [
    "### 模型构建"
   ]
  },
  {
   "cell_type": "code",
   "execution_count": 28,
   "metadata": {
    "ExecuteTime": {
     "end_time": "2019-08-08T14:04:11.642758Z",
     "start_time": "2019-08-08T14:04:11.630758Z"
    }
   },
   "outputs": [],
   "source": [
    "def lgb_cv(train, params, fit_params, feature_names, nfold, seed, test):\n",
    "    train_pred = pd.DataFrame({\n",
    "        'true': train['rest_life'],\n",
    "        'pred': np.zeros(len(train))})\n",
    "    test_pred = pd.DataFrame({'train_file_name': test['train_file_name'], 'rest_life': np.zeros(len(test))},\n",
    "                             columns=['train_file_name', 'rest_life'])\n",
    "    kfolder = KFold(n_splits=nfold, shuffle=True, random_state=seed)\n",
    "    for fold_id, (trn_idx, val_idx) in enumerate(kfolder.split(train)):\n",
    "        print('\\nFold_{fold_id} Training ================================\\n'.format(fold_id=fold_id))\n",
    "        lgb_trn = lgb.Dataset(\n",
    "            data=train.iloc[trn_idx][feature_names],\n",
    "            label=train.iloc[trn_idx]['rest_life'],\n",
    "            feature_name=feature_names)\n",
    "        lgb_val = lgb.Dataset(\n",
    "            data=train.iloc[val_idx][feature_names],\n",
    "            label=train.iloc[val_idx]['rest_life'],\n",
    "            feature_name=feature_names)\n",
    "        lgb_reg = lgb.train(params=params, train_set=lgb_trn,\n",
    "                            num_boost_round=fit_params['num_boost_round'], verbose_eval=fit_params['verbose_eval'],\n",
    "                            early_stopping_rounds=fit_params['early_stopping_rounds'],\n",
    "                            valid_sets=[lgb_trn, lgb_val])\n",
    "        val_pred = lgb_reg.predict(\n",
    "            train.iloc[val_idx][feature_names],\n",
    "            num_iteration=lgb_reg.best_iteration)\n",
    "\n",
    "        train_pred.loc[val_idx, 'pred'] = val_pred\n",
    "        test_pred['rest_life'] += (np.exp(lgb_reg.predict(test[feature_names])) - 1)\n",
    "    test_pred['rest_life'] = test_pred['rest_life'] / nfold\n",
    "    score = compute_loss(pd.Series(np.exp(train_pred['true']) - 1).apply(max, args=(0,))\n",
    "                         , pd.Series(np.exp(train_pred['pred']) - 1).apply(max, args=(0,)))\n",
    "    print('\\nCV LOSS:', score)\n",
    "    return test_pred"
   ]
  },
  {
   "cell_type": "markdown",
   "metadata": {},
   "source": [
    "### 模型训练与预测"
   ]
  },
  {
   "cell_type": "markdown",
   "metadata": {},
   "source": [
    "**nfold交叉验证**"
   ]
  },
  {
   "cell_type": "code",
   "execution_count": 29,
   "metadata": {
    "ExecuteTime": {
     "end_time": "2019-08-08T14:04:11.647759Z",
     "start_time": "2019-08-08T14:04:11.644758Z"
    }
   },
   "outputs": [],
   "source": [
    "nfold = 5\n",
    "seed = 1024"
   ]
  },
  {
   "cell_type": "code",
   "execution_count": 30,
   "metadata": {
    "ExecuteTime": {
     "end_time": "2019-08-08T14:04:11.658759Z",
     "start_time": "2019-08-08T14:04:11.650759Z"
    }
   },
   "outputs": [],
   "source": [
    "feature_name = list(filter(lambda x: x not in ['train_file_name', 'rest_life'], train_test.columns))"
   ]
  },
  {
   "cell_type": "code",
   "execution_count": 31,
   "metadata": {
    "ExecuteTime": {
     "end_time": "2019-08-08T14:06:19.576076Z",
     "start_time": "2019-08-08T14:04:11.661759Z"
    },
    "scrolled": true
   },
   "outputs": [
    {
     "name": "stdout",
     "output_type": "stream",
     "text": [
      "\n",
      "Fold_0 Training ================================\n",
      "\n",
      "Training until validation scores don't improve for 200 rounds.\n",
      "[200]\ttraining's l2: 0.393209\tvalid_1's l2: 0.440011\n",
      "[400]\ttraining's l2: 0.320958\tvalid_1's l2: 0.415019\n",
      "[600]\ttraining's l2: 0.297575\tvalid_1's l2: 0.413335\n",
      "Early stopping, best iteration is:\n",
      "[566]\ttraining's l2: 0.301118\tvalid_1's l2: 0.413161\n",
      "\n",
      "Fold_1 Training ================================\n",
      "\n",
      "Training until validation scores don't improve for 200 rounds.\n",
      "[200]\ttraining's l2: 0.381288\tvalid_1's l2: 0.584512\n",
      "[400]\ttraining's l2: 0.316427\tvalid_1's l2: 0.516063\n",
      "[600]\ttraining's l2: 0.294566\tvalid_1's l2: 0.486324\n",
      "[800]\ttraining's l2: 0.275483\tvalid_1's l2: 0.465816\n",
      "[1000]\ttraining's l2: 0.258278\tvalid_1's l2: 0.44885\n",
      "[1200]\ttraining's l2: 0.238208\tvalid_1's l2: 0.431735\n",
      "[1400]\ttraining's l2: 0.219275\tvalid_1's l2: 0.41776\n",
      "[1600]\ttraining's l2: 0.197115\tvalid_1's l2: 0.403789\n",
      "[1800]\ttraining's l2: 0.175129\tvalid_1's l2: 0.391845\n",
      "[2000]\ttraining's l2: 0.156313\tvalid_1's l2: 0.38544\n",
      "[2200]\ttraining's l2: 0.139047\tvalid_1's l2: 0.38024\n",
      "[2400]\ttraining's l2: 0.123476\tvalid_1's l2: 0.375547\n",
      "Did not meet early stopping. Best iteration is:\n",
      "[2500]\ttraining's l2: 0.117406\tvalid_1's l2: 0.373552\n",
      "\n",
      "Fold_2 Training ================================\n",
      "\n",
      "Training until validation scores don't improve for 200 rounds.\n",
      "[200]\ttraining's l2: 0.391558\tvalid_1's l2: 0.51176\n",
      "[400]\ttraining's l2: 0.323128\tvalid_1's l2: 0.457289\n",
      "[600]\ttraining's l2: 0.301112\tvalid_1's l2: 0.437213\n",
      "[800]\ttraining's l2: 0.28378\tvalid_1's l2: 0.425243\n",
      "[1000]\ttraining's l2: 0.266442\tvalid_1's l2: 0.416246\n",
      "[1200]\ttraining's l2: 0.248217\tvalid_1's l2: 0.40899\n",
      "[1400]\ttraining's l2: 0.225291\tvalid_1's l2: 0.402107\n",
      "[1600]\ttraining's l2: 0.19801\tvalid_1's l2: 0.394848\n",
      "[1800]\ttraining's l2: 0.175689\tvalid_1's l2: 0.389796\n",
      "[2000]\ttraining's l2: 0.156197\tvalid_1's l2: 0.385264\n",
      "[2200]\ttraining's l2: 0.139266\tvalid_1's l2: 0.381027\n",
      "[2400]\ttraining's l2: 0.124541\tvalid_1's l2: 0.378505\n",
      "Did not meet early stopping. Best iteration is:\n",
      "[2500]\ttraining's l2: 0.11739\tvalid_1's l2: 0.377783\n",
      "\n",
      "Fold_3 Training ================================\n",
      "\n",
      "Training until validation scores don't improve for 200 rounds.\n",
      "[200]\ttraining's l2: 0.390269\tvalid_1's l2: 0.438317\n",
      "[400]\ttraining's l2: 0.319239\tvalid_1's l2: 0.417432\n",
      "[600]\ttraining's l2: 0.293776\tvalid_1's l2: 0.419055\n",
      "Early stopping, best iteration is:\n",
      "[451]\ttraining's l2: 0.311792\tvalid_1's l2: 0.417154\n",
      "\n",
      "Fold_4 Training ================================\n",
      "\n",
      "Training until validation scores don't improve for 200 rounds.\n",
      "[200]\ttraining's l2: 0.393332\tvalid_1's l2: 0.44749\n",
      "[400]\ttraining's l2: 0.321288\tvalid_1's l2: 0.424476\n",
      "[600]\ttraining's l2: 0.297859\tvalid_1's l2: 0.423247\n",
      "[800]\ttraining's l2: 0.278118\tvalid_1's l2: 0.422622\n",
      "[1000]\ttraining's l2: 0.255757\tvalid_1's l2: 0.42061\n",
      "[1200]\ttraining's l2: 0.223103\tvalid_1's l2: 0.417098\n",
      "[1400]\ttraining's l2: 0.19541\tvalid_1's l2: 0.41077\n",
      "[1600]\ttraining's l2: 0.171504\tvalid_1's l2: 0.40476\n",
      "[1800]\ttraining's l2: 0.149714\tvalid_1's l2: 0.399568\n",
      "[2000]\ttraining's l2: 0.133442\tvalid_1's l2: 0.3957\n",
      "[2200]\ttraining's l2: 0.11901\tvalid_1's l2: 0.392221\n",
      "[2400]\ttraining's l2: 0.105624\tvalid_1's l2: 0.387854\n",
      "Did not meet early stopping. Best iteration is:\n",
      "[2500]\ttraining's l2: 0.100014\tvalid_1's l2: 0.386423\n",
      "\n",
      "CV LOSS: 0.6273870440786706\n"
     ]
    }
   ],
   "source": [
    "df_test_label = lgb_cv(train_test.iloc[:train.shape[0]], params_lgb, fit_params_lgb,\n",
    "                 feature_name, nfold, seed, train_test.iloc[train.shape[0]:])"
   ]
  },
  {
   "cell_type": "markdown",
   "metadata": {},
   "source": [
    "### 输出文件"
   ]
  },
  {
   "cell_type": "code",
   "execution_count": 32,
   "metadata": {
    "ExecuteTime": {
     "end_time": "2019-08-08T14:06:19.604077Z",
     "start_time": "2019-08-08T14:06:19.581076Z"
    }
   },
   "outputs": [],
   "source": [
    "df_test_label.to_csv('./test_result/df_test_label_lgb_0808_3.csv', index=False)"
   ]
  },
  {
   "cell_type": "code",
   "execution_count": 33,
   "metadata": {
    "ExecuteTime": {
     "end_time": "2019-08-08T14:06:19.634079Z",
     "start_time": "2019-08-08T14:06:19.607078Z"
    }
   },
   "outputs": [
    {
     "data": {
      "text/html": [
       "<div>\n",
       "<style scoped>\n",
       "    .dataframe tbody tr th:only-of-type {\n",
       "        vertical-align: middle;\n",
       "    }\n",
       "\n",
       "    .dataframe tbody tr th {\n",
       "        vertical-align: top;\n",
       "    }\n",
       "\n",
       "    .dataframe thead th {\n",
       "        text-align: right;\n",
       "    }\n",
       "</style>\n",
       "<table border=\"1\" class=\"dataframe\">\n",
       "  <thead>\n",
       "    <tr style=\"text-align: right;\">\n",
       "      <th></th>\n",
       "      <th>rest_life</th>\n",
       "    </tr>\n",
       "  </thead>\n",
       "  <tbody>\n",
       "    <tr>\n",
       "      <th>count</th>\n",
       "      <td>889.000000</td>\n",
       "    </tr>\n",
       "    <tr>\n",
       "      <th>mean</th>\n",
       "      <td>1052.908024</td>\n",
       "    </tr>\n",
       "    <tr>\n",
       "      <th>std</th>\n",
       "      <td>748.845885</td>\n",
       "    </tr>\n",
       "    <tr>\n",
       "      <th>min</th>\n",
       "      <td>111.689409</td>\n",
       "    </tr>\n",
       "    <tr>\n",
       "      <th>25%</th>\n",
       "      <td>347.457088</td>\n",
       "    </tr>\n",
       "    <tr>\n",
       "      <th>50%</th>\n",
       "      <td>964.332323</td>\n",
       "    </tr>\n",
       "    <tr>\n",
       "      <th>75%</th>\n",
       "      <td>1653.859723</td>\n",
       "    </tr>\n",
       "    <tr>\n",
       "      <th>max</th>\n",
       "      <td>5292.937373</td>\n",
       "    </tr>\n",
       "  </tbody>\n",
       "</table>\n",
       "</div>"
      ],
      "text/plain": [
       "         rest_life\n",
       "count   889.000000\n",
       "mean   1052.908024\n",
       "std     748.845885\n",
       "min     111.689409\n",
       "25%     347.457088\n",
       "50%     964.332323\n",
       "75%    1653.859723\n",
       "max    5292.937373"
      ]
     },
     "execution_count": 33,
     "metadata": {},
     "output_type": "execute_result"
    }
   ],
   "source": [
    "df_test_label.describe()"
   ]
  },
  {
   "cell_type": "code",
   "execution_count": null,
   "metadata": {},
   "outputs": [],
   "source": []
  }
 ],
 "metadata": {
  "hide_input": false,
  "kernelspec": {
   "display_name": "Python 3",
   "language": "python",
   "name": "python3"
  },
  "language_info": {
   "codemirror_mode": {
    "name": "ipython",
    "version": 3
   },
   "file_extension": ".py",
   "mimetype": "text/x-python",
   "name": "python",
   "nbconvert_exporter": "python",
   "pygments_lexer": "ipython3",
   "version": "3.6.6"
  },
  "toc": {
   "base_numbering": 1,
   "nav_menu": {},
   "number_sections": true,
   "sideBar": true,
   "skip_h1_title": false,
   "title_cell": "Table of Contents",
   "title_sidebar": "Contents",
   "toc_cell": false,
   "toc_position": {
    "height": "calc(100% - 180px)",
    "left": "10px",
    "top": "150px",
    "width": "234.171px"
   },
   "toc_section_display": true,
   "toc_window_display": true
  },
  "varInspector": {
   "cols": {
    "lenName": 16,
    "lenType": 16,
    "lenVar": 40
   },
   "kernels_config": {
    "python": {
     "delete_cmd_postfix": "",
     "delete_cmd_prefix": "del ",
     "library": "var_list.py",
     "varRefreshCmd": "print(var_dic_list())"
    },
    "r": {
     "delete_cmd_postfix": ") ",
     "delete_cmd_prefix": "rm(",
     "library": "var_list.r",
     "varRefreshCmd": "cat(var_dic_list()) "
    }
   },
   "types_to_exclude": [
    "module",
    "function",
    "builtin_function_or_method",
    "instance",
    "_Feature"
   ],
   "window_display": false
  }
 },
 "nbformat": 4,
 "nbformat_minor": 2
}
